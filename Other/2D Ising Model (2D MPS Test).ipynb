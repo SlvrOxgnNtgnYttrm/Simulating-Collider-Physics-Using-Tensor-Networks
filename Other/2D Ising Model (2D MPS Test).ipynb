{
 "cells": [
  {
   "cell_type": "code",
   "execution_count": 87,
   "id": "990702a2",
   "metadata": {},
   "outputs": [],
   "source": [
    "using ITensors, ITensorMPS, Plots\n",
    "using Plots.PlotMeasures"
   ]
  },
  {
   "cell_type": "code",
   "execution_count": 88,
   "id": "4c81f7be",
   "metadata": {},
   "outputs": [
    {
     "data": {
      "text/plain": [
       "sqr_lat_pbc (generic function with 1 method)"
      ]
     },
     "execution_count": 88,
     "metadata": {},
     "output_type": "execute_result"
    }
   ],
   "source": [
    "function sqr_lat_pbc(Nx::Int, Ny::Int)::Lattice\n",
    "  N = Nx * Ny\n",
    "  Nbond = 2N\n",
    "  latt = Lattice(undef, Nbond)\n",
    "  b = 0\n",
    "  for n in 1:N\n",
    "    x = div(n - 1, Ny) + 1\n",
    "    y = mod(n - 1, Ny) + 1\n",
    "    if Nx > 1\n",
    "      if x < Nx\n",
    "        latt[b += 1] = LatticeBond(n, n + Ny, x, y, x + 1, y)\n",
    "      end\n",
    "      if x == 1\n",
    "        latt[b += 1] = LatticeBond(n, n + Ny * (Nx - 1), x, y, Nx, y)\n",
    "      end\n",
    "    end\n",
    "    if Ny > 1\n",
    "      if y < Ny\n",
    "        latt[b += 1] = LatticeBond(n, n + 1, x, y, x, y + 1)\n",
    "      end\n",
    "      if y == 1\n",
    "        latt[b += 1] = LatticeBond(n, n + Ny - 1, x, y, x, Ny)\n",
    "      end\n",
    "    end\n",
    "  end\n",
    "  return latt\n",
    "end"
   ]
  },
  {
   "cell_type": "code",
   "execution_count": 89,
   "id": "d694bff4",
   "metadata": {},
   "outputs": [
    {
     "data": {
      "text/plain": [
       "-5000.0"
      ]
     },
     "execution_count": 89,
     "metadata": {},
     "output_type": "execute_result"
    }
   ],
   "source": [
    "Nx = 50\n",
    "Ny = 50\n",
    "J = 1\n",
    "N = Nx*Ny\n",
    "sites = siteinds(\"Qubit\", N)\n",
    "lat = sqr_lat_pbc(Nx, Ny)\n",
    "\n",
    "H_os = OpSum()\n",
    "for b in lat\n",
    "    H_os += -J, \"Z\", b.s1, \"Z\", b.s2\n",
    "end\n",
    "H = MPO(H_os, sites);\n",
    "\n",
    "state_Dict =  Dict(\n",
    "    \"All 0\" => [\"0\" for i in 1:N],\n",
    "    \"Half 1\" => [i <= round(Int, N/2) ? \"0\" : \"1\" for i in 1:N],\n",
    "    \"Alt 1/0\" => [isodd(i) ? \"1\" : \"0\" for i in 1:N])\n",
    "psi = MPS(sites, state_Dict[\"All 0\"]);\n",
    "expval = inner(psi', H, psi)"
   ]
  }
 ],
 "metadata": {
  "kernelspec": {
   "display_name": "Julia 1.11.5",
   "language": "julia",
   "name": "julia-1.11"
  },
  "language_info": {
   "file_extension": ".jl",
   "mimetype": "application/julia",
   "name": "julia",
   "version": "1.11.5"
  }
 },
 "nbformat": 4,
 "nbformat_minor": 5
}
